{
 "cells": [
  {
   "cell_type": "code",
   "execution_count": 18,
   "metadata": {},
   "outputs": [
    {
     "name": "stdout",
     "output_type": "stream",
     "text": [
      "Request to http://localhost:8000/crawl returned status code 200\n",
      "Request to http://localhost:8000/crawl returned status code 200\n",
      "Request to http://localhost:8000/crawl returned status code 200\n",
      "Request to http://localhost:8000/crawl returned status code 200\n",
      "Request to http://localhost:8000/crawl returned status code 200\n",
      "Request to http://localhost:8000/crawl returned status code 200\n",
      "Request to http://localhost:8000/crawl returned status code 200\n",
      "Request to http://localhost:8000/crawl returned status code 200\n",
      "Request to http://localhost:8000/crawl returned status code 200\n",
      "Request to http://localhost:8000/crawl returned status code 200\n"
     ]
    }
   ],
   "source": [
    "import requests\n",
    "from joblib import Parallel, delayed\n",
    "\n",
    "# Define the payload\n",
    "payload = {\n",
    "\t\"url\": \"https://example.com\"\n",
    "}\n",
    "\n",
    "# Define the function to make the POST request\n",
    "def make_post_request(url, payload):\n",
    "\tresponse = requests.post(url, json=payload)\n",
    "\tprint(f\"Request to {url} returned status code {response.status_code}\")\n",
    "\treturn response.text\n",
    "\n",
    "# Define the URL to call\n",
    "url = \"http://localhost:8000/crawl\"\n",
    "\n",
    "# Use joblib to execute the requests concurrently\n",
    "results = Parallel(n_jobs=-1, prefer= 'threads')(delayed(make_post_request)(url, payload) for _ in range(10))\n",
    "\n",
    "# # Print the results\n",
    "# for result in results:\n",
    "# \tprint(result)"
   ]
  },
  {
   "cell_type": "code",
   "execution_count": 12,
   "metadata": {},
   "outputs": [
    {
     "data": {
      "text/plain": [
       "['\"\\\\nExample Domain\\\\n\\\\n\\\\n\\\\n\\\\n\\\\n\\\\n\\\\nExample Domain\\\\n==============\\\\n\\\\n\\\\nThis domain is for use in illustrative examples in documents. You may use this\\\\n domain in literature without prior coordination or asking for permission.\\\\n\\\\n\\\\n[More information...](https://www.iana.org/domains/example)\\\\n\\\\n\\\\n\\\\n\"',\n",
       " '\"\\\\nExample Domain\\\\n\\\\n\\\\n\\\\n\\\\n\\\\n\\\\n\\\\nExample Domain\\\\n==============\\\\n\\\\n\\\\nThis domain is for use in illustrative examples in documents. You may use this\\\\n domain in literature without prior coordination or asking for permission.\\\\n\\\\n\\\\n[More information...](https://www.iana.org/domains/example)\\\\n\\\\n\\\\n\\\\n\"',\n",
       " '\"\\\\nExample Domain\\\\n\\\\n\\\\n\\\\n\\\\n\\\\n\\\\n\\\\nExample Domain\\\\n==============\\\\n\\\\n\\\\nThis domain is for use in illustrative examples in documents. You may use this\\\\n domain in literature without prior coordination or asking for permission.\\\\n\\\\n\\\\n[More information...](https://www.iana.org/domains/example)\\\\n\\\\n\\\\n\\\\n\"',\n",
       " '\"\\\\nExample Domain\\\\n\\\\n\\\\n\\\\n\\\\n\\\\n\\\\n\\\\nExample Domain\\\\n==============\\\\n\\\\n\\\\nThis domain is for use in illustrative examples in documents. You may use this\\\\n domain in literature without prior coordination or asking for permission.\\\\n\\\\n\\\\n[More information...](https://www.iana.org/domains/example)\\\\n\\\\n\\\\n\\\\n\"',\n",
       " '\"\\\\nExample Domain\\\\n\\\\n\\\\n\\\\n\\\\n\\\\n\\\\n\\\\nExample Domain\\\\n==============\\\\n\\\\n\\\\nThis domain is for use in illustrative examples in documents. You may use this\\\\n domain in literature without prior coordination or asking for permission.\\\\n\\\\n\\\\n[More information...](https://www.iana.org/domains/example)\\\\n\\\\n\\\\n\\\\n\"']"
      ]
     },
     "execution_count": 12,
     "metadata": {},
     "output_type": "execute_result"
    }
   ],
   "source": [
    "results"
   ]
  }
 ],
 "metadata": {
  "kernelspec": {
   "display_name": "Python 3",
   "language": "python",
   "name": "python3"
  },
  "language_info": {
   "codemirror_mode": {
    "name": "ipython",
    "version": 3
   },
   "file_extension": ".py",
   "mimetype": "text/x-python",
   "name": "python",
   "nbconvert_exporter": "python",
   "pygments_lexer": "ipython3",
   "version": "3.11.9"
  }
 },
 "nbformat": 4,
 "nbformat_minor": 2
}
