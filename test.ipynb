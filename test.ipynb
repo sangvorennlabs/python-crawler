{
 "cells": [
  {
   "cell_type": "code",
   "execution_count": 10,
   "metadata": {},
   "outputs": [],
   "source": [
    "import requests\n",
    "from joblib import Parallel, delayed\n",
    "\n",
    "# Define the payload\n",
    "payload = {\n",
    "\t\"url\": \"https://example.com\"\n",
    "}\n",
    "\n",
    "# Define the function to make the POST request\n",
    "def make_post_request(url, payload):\n",
    "\tresponse = requests.post(url, json=payload)\n",
    "\tprint(f\"Request to {url} returned status code {response.status_code}\")\n",
    "\treturn response.text\n",
    "\n",
    "# Define the URL to call\n",
    "url = \"http://localhost:8000/fetch-html/\"\n",
    "\n",
    "# Use joblib to execute the requests concurrently\n",
    "results = Parallel(n_jobs=5)(delayed(make_post_request)(url, payload) for _ in range(5))\n",
    "\n",
    "# # Print the results\n",
    "# for result in results:\n",
    "# \tprint(result)"
   ]
  }
 ],
 "metadata": {
  "kernelspec": {
   "display_name": "Python 3",
   "language": "python",
   "name": "python3"
  },
  "language_info": {
   "codemirror_mode": {
    "name": "ipython",
    "version": 3
   },
   "file_extension": ".py",
   "mimetype": "text/x-python",
   "name": "python",
   "nbconvert_exporter": "python",
   "pygments_lexer": "ipython3",
   "version": "3.11.9"
  }
 },
 "nbformat": 4,
 "nbformat_minor": 2
}
